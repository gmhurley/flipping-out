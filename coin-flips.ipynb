{
 "cells": [
  {
   "cell_type": "markdown",
   "metadata": {},
   "source": [
    "### Import Required Libraries"
   ]
  },
  {
   "cell_type": "code",
   "execution_count": 46,
   "metadata": {
    "collapsed": true
   },
   "outputs": [],
   "source": [
    "import random\n",
    "import math\n",
    "import statistics\n",
    "import matplotlib.pyplot as plt\n",
    "import numpy as np\n",
    "\n",
    "%matplotlib inline"
   ]
  },
  {
   "cell_type": "markdown",
   "metadata": {},
   "source": [
    "### Define how to flip a coin\n",
    "* 0 is returned for tails\n",
    "* 1 is returned for heads"
   ]
  },
  {
   "cell_type": "code",
   "execution_count": 47,
   "metadata": {
    "collapsed": false
   },
   "outputs": [],
   "source": [
    "def coin_flip():\n",
    "    return random.randint(0, 1)"
   ]
  },
  {
   "cell_type": "markdown",
   "metadata": {},
   "source": [
    "### Define how to receive coin flip data\n",
    "* Start the count for heads and tails at 0\n",
    "* Create a list defining the exponential intervals up to the n of roles requested\n",
    "* Create an empty list to store the results\n",
    "* Loop through each number between 1 and n\n",
    "* Add to heads or tails variable depending on the outcome from the role\n",
    "* If the number of the loop is part of the expontential intervals, record the number of the loop with the current count of heads and tails in a tuple\n",
    "* Return all of those results"
   ]
  },
  {
   "cell_type": "code",
   "execution_count": 48,
   "metadata": {
    "collapsed": true
   },
   "outputs": [],
   "source": [
    "def flip_coin(n=2**16):\n",
    "    heads = 0\n",
    "    tails = 0\n",
    "    seq = [2**x for x in range(n) if 2**x < n]\n",
    "    seq.append(n)\n",
    "    results = []\n",
    "    for x in range(1, n + 1):\n",
    "        if coin_flip() == 1:\n",
    "            heads += 1\n",
    "        else:\n",
    "            tails += 1\n",
    "        if x in seq:\n",
    "            results.append((x, heads, tails))\n",
    "    \n",
    "    return results"
   ]
  },
  {
   "cell_type": "markdown",
   "metadata": {},
   "source": [
    "### Set the number of coin flips"
   ]
  },
  {
   "cell_type": "code",
   "execution_count": 49,
   "metadata": {
    "collapsed": true
   },
   "outputs": [],
   "source": [
    "coin_data = flip_coin(1000)"
   ]
  },
  {
   "cell_type": "markdown",
   "metadata": {},
   "source": [
    "### Plot difference between heads and tails"
   ]
  },
  {
   "cell_type": "code",
   "execution_count": 50,
   "metadata": {
    "collapsed": false
   },
   "outputs": [
    {
     "data": {
      "image/png": "[encoded data removed]",
      "text/plain": [
       "<matplotlib.figure.Figure at 0x1067b3710>"
      ]
     },
     "metadata": {},
     "output_type": "display_data"
    }
   ],
   "source": [
    "def show_diff():\n",
    "    x1 = [x[0] for x in coin_data]\n",
    "    y1 = [x[1] - x[2] for x in coin_data]\n",
    "\n",
    "    plt.plot(y1)\n",
    "    plt.xticks(range(len(x1)), x1)\n",
    "    plt.xlabel('# of flips')\n",
    "    plt.ylabel('Head to Tail Diff')\n",
    "    plt.title('Head to Tails Diff on {} Coin Flips'.format(coin_data[-1][0]))\n",
    "    plt.show()\n",
    "    \n",
    "show_diff()"
   ]
  },
  {
   "cell_type": "markdown",
   "metadata": {},
   "source": [
    "### Plot ratio of head to tails at each point"
   ]
  },
  {
   "cell_type": "code",
   "execution_count": 51,
   "metadata": {
    "collapsed": false
   },
   "outputs": [
    {
     "data": {
      "image/png": "[encoded data removed]",
      "text/plain": [
       "<matplotlib.figure.Figure at 0x10681aba8>"
      ]
     },
     "metadata": {},
     "output_type": "display_data"
    }
   ],
   "source": [
    "def show_ratio():\n",
    "    x1 = [x[0] for x in coin_data]\n",
    "    y1 = []\n",
    "    for x in coin_data:\n",
    "        if x[2] == 0:\n",
    "            y1.append(np.nan)\n",
    "        else:\n",
    "            y1.append(x[1]/x[2])\n",
    "\n",
    "    plt.plot(y1)\n",
    "    plt.xticks(range(len(x1)), x1)\n",
    "    plt.xlabel('# of flips')\n",
    "    plt.ylabel('Head to Tails Ratio')\n",
    "    plt.title('Head to Tails Ratio on {} Coin Flips'.format(coin_data[-1][0]))\n",
    "    plt.show()\n",
    "    \n",
    "show_ratio()"
   ]
  },
  {
   "cell_type": "markdown",
   "metadata": {},
   "source": [
    "### Scatter Plot difference between heads and tails"
   ]
  },
  {
   "cell_type": "code",
   "execution_count": 52,
   "metadata": {
    "collapsed": false
   },
   "outputs": [
    {
     "name": "stdout",
     "output_type": "stream",
     "text": [
      "[1, 2, 4, 8, 16, 32, 64, 128, 256, 512, 1000]\n",
      "[-1, -2, -2, -6, -8, -10, -8, -10, -16, -20, -64]\n"
     ]
    },
    {
     "data": {
      "image/png": "[encoded data removed]",
      "text/plain": [
       "<matplotlib.figure.Figure at 0x1072d41d0>"
      ]
     },
     "metadata": {},
     "output_type": "display_data"
    }
   ],
   "source": [
    "def show_diff_scatter():\n",
    "    x1 = [x[0] for x in coin_data]\n",
    "    y1 = [x[1] - x[2] for x in coin_data]\n",
    "\n",
    "    print(x1)\n",
    "    print(y1)\n",
    "    plt.scatter(x1, y1)\n",
    "    plt.xscale('log')\n",
    "    plt.xlabel('# of flips')\n",
    "    plt.ylabel('Head to Tail Diff')\n",
    "    plt.title('Head to Tails Diff on {} Coin Flips'.format(coin_data[-1][0]))\n",
    "    plt.show()\n",
    "\n",
    "show_diff_scatter()"
   ]
  },
  {
   "cell_type": "markdown",
   "metadata": {},
   "source": [
    "### Scatter plat ratio of head to tails at each point"
   ]
  },
  {
   "cell_type": "code",
   "execution_count": 53,
   "metadata": {
    "collapsed": false
   },
   "outputs": [
    {
     "data": {
      "image/png": "[encoded data removed]",
      "text/plain": [
       "<matplotlib.figure.Figure at 0x1070f82e8>"
      ]
     },
     "metadata": {},
     "output_type": "display_data"
    }
   ],
   "source": [
    "def show_ratio_scatter():\n",
    "    x1 = [x[0] for x in coin_data]\n",
    "    y1 = []\n",
    "    for x in coin_data:\n",
    "        if x[2] == 0:\n",
    "            y1.append(np.nan)\n",
    "        else:\n",
    "            y1.append(x[1]/x[2])\n",
    "\n",
    "    plt.scatter(x1, y1)\n",
    "    plt.xscale('log')\n",
    "    plt.xlabel('# of flips')\n",
    "    plt.ylabel('Head to Tails Ratio')\n",
    "    plt.title('Head to Tails Ratio on {} Coin Flips'.format(coin_data[-1][0]))\n",
    "    plt.show()\n",
    "    \n",
    "show_ratio_scatter()"
   ]
  },
  {
   "cell_type": "markdown",
   "metadata": {},
   "source": [
    "### 20 trials"
   ]
  },
  {
   "cell_type": "code",
   "execution_count": null,
   "metadata": {
    "collapsed": false
   },
   "outputs": [],
   "source": [
    "def twenty_trials():\n",
    "    results = []\n",
    "    for x in range(1, 21):\n",
    "        results.append(flip_coin())\n",
    "        \n",
    "    print(results[0])"
   ]
  },
  {
   "cell_type": "code",
   "execution_count": null,
   "metadata": {
    "collapsed": false
   },
   "outputs": [],
   "source": [
    "twenty_trials()"
   ]
  },
  {
   "cell_type": "markdown",
   "metadata": {},
   "source": [
    "# This is taking a long time. Will get some sleep and wait for tomorrows review."
   ]
  },
  {
   "cell_type": "code",
   "execution_count": null,
   "metadata": {
    "collapsed": true
   },
   "outputs": [],
   "source": []
  }
 ],
 "metadata": {
  "kernelspec": {
   "display_name": "Python 3",
   "language": "python",
   "name": "python3"
  },
  "language_info": {
   "codemirror_mode": {
    "name": "ipython",
    "version": 3
   },
   "file_extension": ".py",
   "mimetype": "text/x-python",
   "name": "python",
   "nbconvert_exporter": "python",
   "pygments_lexer": "ipython3",
   "version": "3.4.1"
  }
 },
 "nbformat": 4,
 "nbformat_minor": 0
}
